{
 "cells": [
  {
   "cell_type": "code",
   "execution_count": 3,
   "id": "5759d899",
   "metadata": {},
   "outputs": [
    {
     "name": "stdout",
     "output_type": "stream",
     "text": [
      "The total number of PCR tests performed as of yesterday in the United States\n",
      "For 56 states, the Total PCR tests performed as of yesterday = 1043334998\n"
     ]
    }
   ],
   "source": [
    "import datetime\n",
    "import pandas as pd\n",
    "\n",
    "\n",
    "# Dataset is always a day behind, hence we always get data as of yesterday\n",
    "# Still, Keeping the date dynamic:\n",
    "today = pd.Timestamp(\"today\").strftime(\"%Y-%m-%dT00:00:00.000\")\n",
    "\n",
    "# Forming a url query to get data as of Yesterday (aka date<today)\n",
    "url = f'https://healthdata.gov/resource/j8mb-icvb.json?$where=date<\\\"{today}\\\"&$limit=200000&$order=date%20DESC'\n",
    "# Obtaining the dataset\n",
    "df = pd.read_json(url)\n",
    "\n",
    "# The total number of PCR tests performed as of yesterday in the United States.\n",
    "# To get the total PCR tests for ALL the states, all the latest values of 'total_results_reported' need to be added up\n",
    "totalPCRTests = 0\n",
    "stateCount = 0\n",
    "for state in df.state.unique():\n",
    "    allStates = df.loc[df.state == state].head(3)\n",
    "    totalPCRTests = totalPCRTests + allStates['total_results_reported'].sum()\n",
    "    stateCount = stateCount + 1\n",
    "\n",
    "#Just a couple of output statements to hit it home\n",
    "print('The total number of PCR tests performed as of yesterday in the United States')\n",
    "print(f'For {stateCount} states, the Total PCR tests performed as of yesterday = {totalPCRTests}')"
   ]
  },
  {
   "cell_type": "code",
   "execution_count": null,
   "id": "c413f122",
   "metadata": {},
   "outputs": [],
   "source": []
  }
 ],
 "metadata": {
  "kernelspec": {
   "display_name": "Python 3 (ipykernel)",
   "language": "python",
   "name": "python3"
  },
  "language_info": {
   "codemirror_mode": {
    "name": "ipython",
    "version": 3
   },
   "file_extension": ".py",
   "mimetype": "text/x-python",
   "name": "python",
   "nbconvert_exporter": "python",
   "pygments_lexer": "ipython3",
   "version": "3.11.3"
  }
 },
 "nbformat": 4,
 "nbformat_minor": 5
}
